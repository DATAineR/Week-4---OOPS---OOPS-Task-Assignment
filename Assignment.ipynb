{
 "cells": [
  {
   "cell_type": "markdown",
   "id": "57a77ff0-74ce-4a68-bd29-9e805fe7752c",
   "metadata": {},
   "source": [
    "Q1. Create a vehicle class with an init method having instance variables as name_of_vehicle, max_speed \n",
    "and average_of_vehicle. "
   ]
  },
  {
   "cell_type": "code",
   "execution_count": 1,
   "id": "d13eef30-eae5-4f8a-a234-08173310c3ef",
   "metadata": {},
   "outputs": [
    {
     "name": "stdout",
     "output_type": "stream",
     "text": [
      "Car: Max Speed - 200 km/h, Average Speed - 60 km/h\n",
      "Bike: Max Speed - 150 km/h, Average Speed - 40 km/h\n"
     ]
    }
   ],
   "source": [
    "class Vehicle:\n",
    "    def __init__(self, name_of_vehicle, max_speed, average_speed):\n",
    "        self.name_of_vehicle = name_of_vehicle\n",
    "        self.max_speed = max_speed\n",
    "        self.average_speed = average_speed\n",
    "\n",
    "# Example usage\n",
    "car = Vehicle(\"Car\", 200, 60)\n",
    "bike = Vehicle(\"Bike\", 150, 40)\n",
    "\n",
    "# Accessing instance variables\n",
    "print(f\"{car.name_of_vehicle}: Max Speed - {car.max_speed} km/h, Average Speed - {car.average_speed} km/h\")\n",
    "print(f\"{bike.name_of_vehicle}: Max Speed - {bike.max_speed} km/h, Average Speed - {bike.average_speed} km/h\")\n"
   ]
  },
  {
   "cell_type": "markdown",
   "id": "31fc8a90-50a8-4fdb-ab23-60fff80e0016",
   "metadata": {},
   "source": [
    "Q2.  Create a child class car from the vehicle class created in Que 1, which will inherit the vehicle class. \n",
    "Create a method named seating_capacity which takes capacity as an argument and returns the name of \n",
    "the vehicle and its seating capacity."
   ]
  },
  {
   "cell_type": "code",
   "execution_count": 3,
   "id": "f113fc80-4f41-439b-a3f7-b94a006d1961",
   "metadata": {},
   "outputs": [
    {
     "name": "stdout",
     "output_type": "stream",
     "text": [
      "Car: Max Speed - 200 km/h, Average Speed - 60 km/h\n",
      "Car has a seating capacity of 5 people.\n"
     ]
    }
   ],
   "source": [
    "class Vehicle:\n",
    "    def __init__(self, name_of_vehicle, max_speed, average_speed):\n",
    "        self.name_of_vehicle = name_of_vehicle\n",
    "        self.max_speed = max_speed\n",
    "        self.average_speed = average_speed\n",
    "\n",
    "class Car(Vehicle):\n",
    "    def seating_capacity(self, capacity):\n",
    "        return f\"{self.name_of_vehicle} has a seating capacity of {capacity} people.\"\n",
    "\n",
    "# Example usage\n",
    "car = Car(\"Car\", 200, 60)\n",
    "\n",
    "# Accessing inherited attributes\n",
    "print(f\"{car.name_of_vehicle}: Max Speed - {car.max_speed} km/h, Average Speed - {car.average_speed} km/h\")\n",
    "\n",
    "# Using the new method in the child class\n",
    "capacity_message = car.seating_capacity(5)\n",
    "print(capacity_message)\n"
   ]
  },
  {
   "cell_type": "markdown",
   "id": "bbad01dd-8dab-4313-b3e8-c0f683e846f8",
   "metadata": {},
   "source": [
    "Q3. What is multiple inheritance? Write a python code to demonstrate multiple inheritance."
   ]
  },
  {
   "cell_type": "markdown",
   "id": "391cdeca-3428-4f54-8c3e-ec8bc54506cd",
   "metadata": {},
   "source": [
    "Multiple inheritance in Python occurs when a class is derived from more than one base classes. This means that a child class can inherit attributes and methods from multiple parent classes. It allows a class to inherit from more than one class, combining features from different classes."
   ]
  },
  {
   "cell_type": "code",
   "execution_count": 4,
   "id": "f76c6d00-12a5-4722-9e56-62b684a833de",
   "metadata": {},
   "outputs": [
    {
     "name": "stdout",
     "output_type": "stream",
     "text": [
      "Engine started.\n",
      "Vehicle charging.\n",
      "Hybrid car is driving.\n"
     ]
    }
   ],
   "source": [
    "class Engine:\n",
    "    def start(self):\n",
    "        print(\"Engine started.\")\n",
    "\n",
    "class ElectricVehicle:\n",
    "    def charge(self):\n",
    "        print(\"Vehicle charging.\")\n",
    "\n",
    "class HybridCar(Engine, ElectricVehicle):\n",
    "    def drive(self):\n",
    "        print(\"Hybrid car is driving.\")\n",
    "\n",
    "# Example usage\n",
    "hybrid_car = HybridCar()\n",
    "\n",
    "# Inheriting methods from both parent classes\n",
    "hybrid_car.start()   # Inherited from Engine\n",
    "hybrid_car.charge()  # Inherited from ElectricVehicle\n",
    "hybrid_car.drive()   # Inherited from HybridCar\n",
    "\n"
   ]
  },
  {
   "cell_type": "markdown",
   "id": "c0ce6b56-6d23-4a46-acf5-bb71587867a3",
   "metadata": {},
   "source": [
    "Q4. What are getter and setter in python? Create a class and create a getter and a setter method in this \n",
    "class."
   ]
  },
  {
   "cell_type": "markdown",
   "id": "f0674716-53fc-4c32-b376-aa1188d785be",
   "metadata": {},
   "source": [
    "\n",
    "In Python, getters and setters are methods used to access and modify the private attributes of a class. They are used to provide controlled access to class attributes, allowing you to enforce encapsulation.\n",
    "\n",
    "Getter: A method used to retrieve the value of a private attribute.\n",
    "\n",
    "Setter: A method used to set or modify the value of a private attribute."
   ]
  },
  {
   "cell_type": "code",
   "execution_count": 6,
   "id": "d21c1150-c469-460c-864e-fe66f11a8fc4",
   "metadata": {},
   "outputs": [
    {
     "name": "stdout",
     "output_type": "stream",
     "text": [
      "Name: aashay\n",
      "Age: 19\n",
      "Updated Name: AASHAY\n",
      "Updated Age: 20\n"
     ]
    }
   ],
   "source": [
    "class Student:\n",
    "    def __init__(self, name, age):\n",
    "        # Private attributes with leading double underscores\n",
    "        self.__name = name\n",
    "        self.__age = age\n",
    "\n",
    "    # Getter method for name\n",
    "    def get_name(self):\n",
    "        return self.__name\n",
    "\n",
    "    # Getter method for age\n",
    "    def get_age(self):\n",
    "        return self.__age\n",
    "\n",
    "    # Setter method for name\n",
    "    def set_name(self, new_name):\n",
    "        self.__name = new_name\n",
    "\n",
    "    # Setter method for age\n",
    "    def set_age(self, new_age):\n",
    "        if new_age > 0:  # Perform validation if needed\n",
    "            self.__age = new_age\n",
    "\n",
    "# Example usage\n",
    "student1 = Student(\"aashay\", 19)\n",
    "\n",
    "# Using getter methods\n",
    "print(\"Name:\", student1.get_name())\n",
    "print(\"Age:\", student1.get_age())\n",
    "\n",
    "# Using setter methods\n",
    "student1.set_name(\"AASHAY\")\n",
    "student1.set_age(20)\n",
    "\n",
    "# Updated values using getters\n",
    "print(\"Updated Name:\", student1.get_name())\n",
    "print(\"Updated Age:\", student1.get_age())\n"
   ]
  },
  {
   "cell_type": "markdown",
   "id": "21447687-b408-4165-a4a5-67624f89f957",
   "metadata": {},
   "source": [
    "Q5.What is method overriding in python? Write a python code to demonstrate method overriding."
   ]
  },
  {
   "cell_type": "markdown",
   "id": "92f2457a-6e49-455b-b7cd-ba0a8f45d375",
   "metadata": {},
   "source": [
    "\n",
    "Method overriding in Python occurs when a subclass provides a specific implementation for a method that is already defined in its superclass. The overridden method in the subclass should have the same name, return type, and parameters as the method in the superclass."
   ]
  },
  {
   "cell_type": "code",
   "execution_count": 7,
   "id": "f0d00ffe-7f75-49ec-b08f-3eb268e126a1",
   "metadata": {},
   "outputs": [
    {
     "name": "stdout",
     "output_type": "stream",
     "text": [
      "Generic animal sound\n",
      "Woof! Woof!\n",
      "Meow!\n"
     ]
    }
   ],
   "source": [
    "class Animal:\n",
    "    def make_sound(self):\n",
    "        print(\"Generic animal sound\")\n",
    "\n",
    "class Dog(Animal):\n",
    "    def make_sound(self):\n",
    "        print(\"Woof! Woof!\")\n",
    "\n",
    "class Cat(Animal):\n",
    "    def make_sound(self):\n",
    "        print(\"Meow!\")\n",
    "\n",
    "# Example usage\n",
    "generic_animal = Animal()\n",
    "dog = Dog()\n",
    "cat = Cat()\n",
    "\n",
    "# Calling overridden methods\n",
    "generic_animal.make_sound()  # Output: Generic animal sound\n",
    "dog.make_sound()            # Output: Woof! Woof!\n",
    "cat.make_sound()            # Output: Meow!\n"
   ]
  },
  {
   "cell_type": "code",
   "execution_count": null,
   "id": "9bdb8227-9521-4862-9ffb-92e590636646",
   "metadata": {},
   "outputs": [],
   "source": []
  }
 ],
 "metadata": {
  "kernelspec": {
   "display_name": "Python 3 (ipykernel)",
   "language": "python",
   "name": "python3"
  },
  "language_info": {
   "codemirror_mode": {
    "name": "ipython",
    "version": 3
   },
   "file_extension": ".py",
   "mimetype": "text/x-python",
   "name": "python",
   "nbconvert_exporter": "python",
   "pygments_lexer": "ipython3",
   "version": "3.11.7"
  }
 },
 "nbformat": 4,
 "nbformat_minor": 5
}
